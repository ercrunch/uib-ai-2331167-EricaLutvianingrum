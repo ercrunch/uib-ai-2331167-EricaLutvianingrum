{
 "cells": [
  {
   "cell_type": "markdown",
   "id": "94216cc4",
   "metadata": {},
   "source": [
    "\n",
    "# Fuzzy Logic for Sleep Efficiency Dataset\n",
    "\n",
    "This notebook applies fuzzy logic to estimate **sleep quality** based on lifestyle and sleep patterns from the Sleep Efficiency dataset.\n",
    "\n",
    "**Inputs:**\n",
    "- Sleep duration\n",
    "- Caffeine consumption\n",
    "- Alcohol consumption\n",
    "- Exercise frequency\n",
    "- Awakenings\n",
    "\n",
    "**Output:**\n",
    "- Sleep quality score (0–100)\n",
    "- Sleep quality label (poor / fair / good)\n",
    "- Recommended sleep extension (hours)\n",
    "\n"
   ]
  },
  {
   "cell_type": "code",
   "execution_count": null,
   "id": "51c37a2b",
   "metadata": {},
   "outputs": [],
   "source": [
    "!pip install scikit-fuzzy pandas numpy matplotlib"
   ]
  },
  {
   "cell_type": "code",
   "execution_count": null,
   "id": "8d06045b",
   "metadata": {},
   "outputs": [],
   "source": [
    "\n",
    "import pandas as pd\n",
    "import numpy as np\n",
    "import matplotlib.pyplot as plt\n",
    "import skfuzzy as fuzz\n",
    "from skfuzzy import control as ctrl\n",
    "\n",
    "df = pd.read_csv(\"/mnt/data/data.csv\")\n",
    "df = df.dropna().reset_index(drop=True)\n",
    "df.head()\n"
   ]
  },
  {
   "cell_type": "code",
   "execution_count": null,
   "id": "4e0d3d45",
   "metadata": {},
   "outputs": [],
   "source": [
    "\n",
    "sleep = ctrl.Antecedent(np.arange(0, 13, 0.1), 'sleep_duration')\n",
    "caffeine = ctrl.Antecedent(np.arange(0, 500, 1), 'caffeine')\n",
    "alcohol = ctrl.Antecedent(np.arange(0, 20, 0.1), 'alcohol')\n",
    "exercise = ctrl.Antecedent(np.arange(0, 8, 1), 'exercise')\n",
    "awaken = ctrl.Antecedent(np.arange(0, 10, 1), 'awakenings')\n",
    "\n",
    "quality = ctrl.Consequent(np.arange(0, 101, 1), 'sleep_quality_score')\n",
    "\n",
    "# Membership functions\n",
    "sleep['short'] = fuzz.trapmf(sleep.universe, [0,0,4.5,6])\n",
    "sleep['optimal'] = fuzz.trimf(sleep.universe, [5.5,7,8.5])\n",
    "sleep['long'] = fuzz.trapmf(sleep.universe, [8,9,12,12])\n",
    "\n",
    "caffeine['low'] = fuzz.trapmf(caffeine.universe, [0,0,50,150])\n",
    "caffeine['medium'] = fuzz.trimf(caffeine.universe, [100,200,300])\n",
    "caffeine['high'] = fuzz.trapmf(caffeine.universe, [250,400,500,500])\n",
    "\n",
    "alcohol['none'] = fuzz.trapmf(alcohol.universe, [0,0,0.5,2])\n",
    "alcohol['moderate'] = fuzz.trimf(alcohol.universe, [1.5,4,7])\n",
    "alcohol['high'] = fuzz.trapmf(alcohol.universe, [6,10,20,20])\n",
    "\n",
    "exercise['low'] = fuzz.trapmf(exercise.universe, [0,0,1,3])\n",
    "exercise['moderate'] = fuzz.trimf(exercise.universe, [2,3.5,5])\n",
    "exercise['high'] = fuzz.trapmf(exercise.universe, [4.5,6,7,7])\n",
    "\n",
    "awaken['few'] = fuzz.trapmf(awaken.universe, [0,0,1,2])\n",
    "awaken['moderate'] = fuzz.trimf(awaken.universe, [1.5,3,5])\n",
    "awaken['frequent'] = fuzz.trapmf(awaken.universe, [4,6,10,10])\n",
    "\n",
    "quality['poor'] = fuzz.trapmf(quality.universe, [0,0,30,45])\n",
    "quality['fair'] = fuzz.trimf(quality.universe, [40,60,80])\n",
    "quality['good'] = fuzz.trapmf(quality.universe, [70,85,100,100])\n"
   ]
  },
  {
   "cell_type": "code",
   "execution_count": null,
   "id": "eea0acf5",
   "metadata": {},
   "outputs": [],
   "source": [
    "\n",
    "rule1 = ctrl.Rule(sleep['short'] | awaken['frequent'] | caffeine['high'] | alcohol['high'], quality['poor'])\n",
    "rule2 = ctrl.Rule(sleep['optimal'] & exercise['moderate'] & caffeine['low'] & awaken['few'], quality['good'])\n",
    "rule3 = ctrl.Rule(sleep['optimal'] & (alcohol['moderate'] | caffeine['medium']), quality['fair'])\n",
    "rule4 = ctrl.Rule(sleep['long'] & alcohol['none'], quality['fair'])\n",
    "rule5 = ctrl.Rule(exercise['low'] & awaken['moderate'], quality['poor'])\n",
    "\n",
    "system = ctrl.ControlSystem([rule1, rule2, rule3, rule4, rule5])\n",
    "sim = ctrl.ControlSystemSimulation(system)\n"
   ]
  },
  {
   "cell_type": "code",
   "execution_count": null,
   "id": "37d74941",
   "metadata": {},
   "outputs": [],
   "source": [
    "\n",
    "scores = []\n",
    "for _, row in df.iterrows():\n",
    "    sim.input['sleep_duration'] = row['Sleep duration']\n",
    "    sim.input['caffeine'] = row['Caffeine consumption']\n",
    "    sim.input['alcohol'] = row['Alcohol consumption']\n",
    "    sim.input['exercise'] = row['Exercise frequency']\n",
    "    sim.input['awakenings'] = row['Awakenings']\n",
    "    try:\n",
    "        sim.compute()\n",
    "        scores.append(sim.output['sleep_quality_score'])\n",
    "    except:\n",
    "        scores.append(np.nan)\n",
    "\n",
    "df['sleep_quality_score'] = np.round(scores,2)\n",
    "df['sleep_quality_label'] = pd.cut(df['sleep_quality_score'],\n",
    "                                   bins=[-1,45,75,100],\n",
    "                                   labels=['poor','fair','good'])\n",
    "df['recommended_sleep_extension_h'] = df['sleep_quality_label'].apply(\n",
    "    lambda x: 1.5 if x=='poor' else (0.5 if x=='fair' else 0))\n",
    "df.head()\n"
   ]
  },
  {
   "cell_type": "code",
   "execution_count": null,
   "id": "91936a06",
   "metadata": {},
   "outputs": [],
   "source": [
    "\n",
    "plt.figure()\n",
    "plt.hist(df['Sleep duration'], bins=10, color='skyblue', edgecolor='black')\n",
    "plt.title('Distribution of Sleep Duration')\n",
    "plt.xlabel('Sleep duration (hours)')\n",
    "plt.ylabel('Count')\n",
    "plt.show()\n",
    "\n",
    "plt.figure()\n",
    "plt.hist(df['sleep_quality_score'].dropna(), bins=10, color='salmon', edgecolor='black')\n",
    "plt.title('Distribution of Predicted Sleep Quality Score')\n",
    "plt.xlabel('Sleep Quality Score')\n",
    "plt.ylabel('Count')\n",
    "plt.show()\n"
   ]
  },
  {
   "cell_type": "code",
   "execution_count": null,
   "id": "e6630f5d",
   "metadata": {},
   "outputs": [],
   "source": [
    "\n",
    "df.to_csv('fuzzy_sleep_efficiency_results.csv', index=False)\n",
    "print('Saved fuzzy_sleep_efficiency_results.csv')\n"
   ]
  }
 ],
 "metadata": {},
 "nbformat": 4,
 "nbformat_minor": 5
}
